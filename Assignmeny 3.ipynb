{
 "cells": [
  {
   "cell_type": "code",
   "execution_count": 1,
   "id": "320a2451",
   "metadata": {},
   "outputs": [
    {
     "name": "stdout",
     "output_type": "stream",
     "text": [
      "Twinkle, twinkle, little star,\n",
      "\tHow I wonder what you are!\n",
      "\t\tUp above the world so high,\n",
      "\tLike a diamond in the sky.\n",
      "Twinkle, twinkle, little star,\n",
      "\tHow I wonder what you are \n"
     ]
    }
   ],
   "source": [
    "print(\"Twinkle, twinkle, little star,\\n\\tHow I wonder what you are!\\n\\t\\tUp above the world so high,\\n\\tLike a diamond in the sky.\\nTwinkle, twinkle, little star,\\n\\tHow I wonder what you are \")"
   ]
  },
  {
   "cell_type": "code",
   "execution_count": 4,
   "id": "1353e732",
   "metadata": {},
   "outputs": [
    {
     "name": "stdout",
     "output_type": "stream",
     "text": [
      "3.8.8 (default, Apr 13 2021, 19:58:26) \n",
      "[GCC 7.3.0]\n"
     ]
    }
   ],
   "source": [
    "import sys\n",
    "print(sys.version)"
   ]
  },
  {
   "cell_type": "code",
   "execution_count": 14,
   "id": "1d7f0c5f",
   "metadata": {},
   "outputs": [
    {
     "name": "stdout",
     "output_type": "stream",
     "text": [
      "2021-10-31 14:34:33.226784\n"
     ]
    }
   ],
   "source": [
    "from datetime import datetime;\n",
    "today = datetime.now();\n",
    "print(today);\n"
   ]
  },
  {
   "cell_type": "code",
   "execution_count": 17,
   "id": "32701864",
   "metadata": {},
   "outputs": [
    {
     "name": "stdout",
     "output_type": "stream",
     "text": [
      "Enter the Radius23\n",
      "1661.9025137490005\n"
     ]
    }
   ],
   "source": [
    "from math import pi;\n",
    "radius = int(input(\"Enter the Radius\"));\n",
    "area = pi*radius**2\n",
    "print(area);"
   ]
  },
  {
   "cell_type": "code",
   "execution_count": 18,
   "id": "100d8af2",
   "metadata": {},
   "outputs": [
    {
     "name": "stdout",
     "output_type": "stream",
     "text": [
      "Enter your first nameabdul\n",
      "Enter your last namesame\n",
      "same abdul\n"
     ]
    }
   ],
   "source": [
    "firstName = input(\"Enter your first name\");\n",
    "lastName = input(\"Enter your last name\");\n",
    "print(lastName + \" \" + firstName);"
   ]
  },
  {
   "cell_type": "code",
   "execution_count": 19,
   "id": "8cb38fac",
   "metadata": {},
   "outputs": [
    {
     "name": "stdout",
     "output_type": "stream",
     "text": [
      "Enter your stringhggfhg\n",
      "Enter your stringjhhg\n",
      "hggfhgjhhg\n"
     ]
    }
   ],
   "source": [
    "justString = input(\"Enter your string\");\n",
    "justString1 = input(\"Enter your string\");\n",
    "print(justString + justString1);"
   ]
  },
  {
   "cell_type": "code",
   "execution_count": 2,
   "id": "42f19821",
   "metadata": {},
   "outputs": [
    {
     "name": "stdout",
     "output_type": "stream",
     "text": [
      "Enter your Math marks65\n",
      "Enter your English marks76\n",
      "Enter your urdu marks67\n",
      "Enter your Islamiat marks76\n",
      "Enter your science marks98\n",
      "76.4\n",
      "A\n"
     ]
    }
   ],
   "source": [
    "mathMarks = int(input(\"Enter your Math marks\"));\n",
    "engMarks = int(input(\"Enter your English marks\"));\n",
    "urduMarks = int(input(\"Enter your urdu marks\"));\n",
    "islMarks = int(input(\"Enter your Islamiat marks\"));\n",
    "scienceMarks = int(input(\"Enter your science marks\"));\n",
    "totalMarks = 500;\n",
    "percentage = (mathMarks + engMarks + urduMarks + islMarks + scienceMarks)/totalMarks*100\n",
    "print(percentage);\n",
    "if percentage >= 80 and percentage < 100:\n",
    "    print(\"A+\");\n",
    "elif percentage >= 70 and percentage < 80:\n",
    "    print(\"A\");\n",
    "elif percentage >= 60 and percentage < 70:\n",
    "    print(\"B\");\n",
    "elif percentage >= 50 and percentage < 60:\n",
    "    print(\"c\");\n",
    "elif percentage >= 40 and percentage < 50:\n",
    "    print(\"D\");\n",
    "elif percentage >= 30 and percentage < 40:\n",
    "    print(\"Fail\");\n"
   ]
  },
  {
   "cell_type": "code",
   "execution_count": 4,
   "id": "53a989da",
   "metadata": {},
   "outputs": [
    {
     "name": "stdout",
     "output_type": "stream",
     "text": [
      "Enter any number: 23\n",
      "23 is an odd number\n"
     ]
    }
   ],
   "source": [
    "num = int(input(\"Enter any number: \"))\n",
    "flag = num%2\n",
    "if flag == 0:\n",
    "    print(num, \"is an even number\")\n",
    "elif flag == 1:\n",
    "    print(num, \"is an odd number\")\n",
    "else:\n",
    "    print(\"Error, Invalid input\")"
   ]
  },
  {
   "cell_type": "code",
   "execution_count": 6,
   "id": "c403f565",
   "metadata": {},
   "outputs": [
    {
     "name": "stdout",
     "output_type": "stream",
     "text": [
      "7\n"
     ]
    }
   ],
   "source": [
    "ls = [12, \"hyderabad\", \"karachi\", 98, \"ali\", \"sami\", \"haris rauf\"];\n",
    "print(len(ls));"
   ]
  },
  {
   "cell_type": "code",
   "execution_count": 7,
   "id": "f90c9cd8",
   "metadata": {},
   "outputs": [
    {
     "name": "stdout",
     "output_type": "stream",
     "text": [
      "628\n"
     ]
    }
   ],
   "source": [
    "a = [214, 34, 34, 323, 23];\n",
    "print(sum(a));"
   ]
  },
  {
   "cell_type": "code",
   "execution_count": 8,
   "id": "2dcdb299",
   "metadata": {},
   "outputs": [
    {
     "name": "stdout",
     "output_type": "stream",
     "text": [
      "323\n"
     ]
    }
   ],
   "source": [
    "a = [214, 34, 34, 323, 23];\n",
    "print(max(a));"
   ]
  },
  {
   "cell_type": "code",
   "execution_count": 9,
   "id": "696d181a",
   "metadata": {},
   "outputs": [
    {
     "name": "stdout",
     "output_type": "stream",
     "text": [
      "1\n",
      "1\n",
      "2\n",
      "3\n"
     ]
    }
   ],
   "source": [
    "a = [1, 1, 2, 3, 5, 8, 13, 21, 34, 55, 89];\n",
    "for x in a:\n",
    "    if x < 5:\n",
    "        print(x);"
   ]
  },
  {
   "cell_type": "code",
   "execution_count": null,
   "id": "8466d949",
   "metadata": {},
   "outputs": [],
   "source": []
  }
 ],
 "metadata": {
  "kernelspec": {
   "display_name": "Python 3",
   "language": "python",
   "name": "python3"
  },
  "language_info": {
   "codemirror_mode": {
    "name": "ipython",
    "version": 3
   },
   "file_extension": ".py",
   "mimetype": "text/x-python",
   "name": "python",
   "nbconvert_exporter": "python",
   "pygments_lexer": "ipython3",
   "version": "3.8.8"
  }
 },
 "nbformat": 4,
 "nbformat_minor": 5
}
